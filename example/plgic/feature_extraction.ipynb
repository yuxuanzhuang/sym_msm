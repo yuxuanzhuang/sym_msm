{
 "cells": [
  {
   "cell_type": "code",
   "execution_count": null,
   "metadata": {},
   "outputs": [],
   "source": [
    "import dask\n",
    "from dask.distributed import Client, LocalCluster"
   ]
  },
  {
   "cell_type": "code",
   "execution_count": null,
   "metadata": {
    "tags": []
   },
   "outputs": [],
   "source": [
    "import logging\n",
    "logging.basicConfig(filename=\"logs.log\", level=logging.INFO)\n",
    "import os.path\n",
    "\n",
    "import gc\n",
    "import pickle\n",
    "import os\n",
    "import itertools\n",
    "import MDAnalysis as mda\n",
    "import MDAnalysis.transformations as trans\n",
    "from MDAnalysis.analysis import align, pca, rms\n",
    "\n",
    "#import pmda.rms\n",
    "import nglview as nl\n",
    "import numpy as np\n",
    "import pandas as pd\n",
    "import pickle\n",
    "import dask.dataframe as dd"
   ]
  },
  {
   "cell_type": "code",
   "execution_count": null,
   "metadata": {
    "tags": []
   },
   "outputs": [],
   "source": [
    "from ENPMDA import MDDataFrame\n",
    "from ENPMDA.preprocessing import TrajectoryEnsemble\n",
    "from ENPMDA.utils import natural_keys"
   ]
  },
  {
   "cell_type": "code",
   "execution_count": null,
   "metadata": {
    "tags": []
   },
   "outputs": [],
   "source": [
    "cluster = LocalCluster(n_workers=64,\n",
    "                       scheduler_port=8789,\n",
    "                       memory_limit='4GB')"
   ]
  },
  {
   "cell_type": "code",
   "execution_count": null,
   "metadata": {},
   "outputs": [],
   "source": [
    "client = Client(cluster)"
   ]
  },
  {
   "cell_type": "code",
   "execution_count": null,
   "metadata": {},
   "outputs": [],
   "source": [
    "print(f\"Current no. workers: {len(client.scheduler_info()['workers'])}\")"
   ]
  },
  {
   "cell_type": "code",
   "execution_count": null,
   "metadata": {},
   "outputs": [],
   "source": [
    "trajectory_list = []\n",
    "topology_list = []\n",
    "bonded_topology_list = []"
   ]
  },
  {
   "cell_type": "code",
   "execution_count": null,
   "metadata": {},
   "outputs": [],
   "source": [
    "traj_note_dic = production_dic\n",
    "\n",
    "for traj_note, load_location in zip(\n",
    "    traj_note_dic[\"traj_note\"], traj_note_dic[\"load_location\"]\n",
    "):\n",
    "    for seed in sorted(os.listdir(load_location), key=natural_keys):\n",
    "        if seed.startswith(\"SEEDS\"):\n",
    "            if os.path.exists(load_location + \"/\" + seed + \"/\" + 'md.xtc'):\n",
    "                if not os.path.exists(load_location + \"/\" + seed + \"/\" + 'ca.pdb'):\n",
    "                    raise ValueError('should have ca.pdb')\n",
    "                trajectory_list.append(load_location + \"/\" + seed + \"/md.xtc\")\n",
    "                topology_list.append(load_location + \"/\" + seed + \"/ca.pdb\")\n",
    "                bonded_topology_list.append(load_location + \"/\" + seed + \"/md.tpr\")"
   ]
  },
  {
   "cell_type": "code",
   "execution_count": null,
   "metadata": {},
   "outputs": [],
   "source": [
    "trajectory_ensemble = TrajectoryEnsemble(ensemble_name='msm_ensemble',\n",
    "                                         trajectory_list=trajectory_list,\n",
    "                                         topology_list=topology_list,\n",
    "                                         bonded_topology_list=bonded_topology_list,\n",
    "                                         skip=5,\n",
    "                                         updating=False,\n",
    "                                         only_raw=False)\n",
    "trajectory_ensemble.load_ensemble()"
   ]
  },
  {
   "cell_type": "code",
   "execution_count": null,
   "metadata": {},
   "outputs": [],
   "source": [
    "print(f\"Number or trajectories in the ensemble is {len(trajectory_list)}\")"
   ]
  },
  {
   "cell_type": "code",
   "execution_count": null,
   "metadata": {},
   "outputs": [],
   "source": [
    "from ENPMDA.analysis import get_backbonetorsion, get_rmsd_init, get_atomic_position\n",
    "from msm_a7_nachrs.prep.feature_selection import (\n",
    "                    get_domain_position, get_domain_interdistance,\n",
    "                    get_domain_intradistance,\n",
    "                    get_pore_hydration, get_c_alpha_distance_10A,\n",
    "                    get_c_alpha_distance_10A_2diff,\n",
    "                    get_pore_hydration_prime,\n",
    "                    get_membrane_thickness\n",
    "                    )"
   ]
  },
  {
   "cell_type": "code",
   "execution_count": null,
   "metadata": {},
   "outputs": [],
   "source": [
    "try:\n",
    "    md_dataframe = MDDataFrame.load_dataframe('./a7_apos_feature/a7_apos_feature_md_dataframe')\n",
    "except FileNotFoundError:\n",
    "    md_dataframe = MDDataFrame(dataframe_name='a7_apos_feature')\n",
    "    md_dataframe.add_traj_ensemble(trajectory_ensemble,\n",
    "                               npartitions=244,\n",
    "                               stride=2)"
   ]
  },
  {
   "cell_type": "code",
   "execution_count": null,
   "metadata": {},
   "outputs": [],
   "source": [
    "print(f\"Number of frames in the dataframe is {len(md_dataframe.dataframe)}\")\n",
    "print(f\"dt in the dataframe is {md_dataframe.dataframe.traj_time.diff()[1] /1000} ns\")\n",
    "print(f\"Number of systems in the dataframe is {len(md_dataframe.dataframe.system.unique())}\")\n",
    "print(f\"Existing features are {md_dataframe.dataframe.columns}\")"
   ]
  },
  {
   "cell_type": "code",
   "execution_count": null,
   "metadata": {},
   "outputs": [],
   "source": [
    "md_dataframe.add_analysis(get_pore_hydration_prime)"
   ]
  },
  {
   "cell_type": "code",
   "execution_count": null,
   "metadata": {},
   "outputs": [],
   "source": [
    "md_dataframe.add_analysis(get_c_alpha_distance_10A_2diff)"
   ]
  },
  {
   "cell_type": "code",
   "execution_count": null,
   "metadata": {
    "tags": []
   },
   "outputs": [],
   "source": [
    "md_dataframe.add_analysis(get_c_alpha_distance_10A)"
   ]
  },
  {
   "cell_type": "code",
   "execution_count": null,
   "metadata": {},
   "outputs": [],
   "source": [
    "md_dataframe.add_analysis(get_domain_interdistance)"
   ]
  },
  {
   "cell_type": "code",
   "execution_count": null,
   "metadata": {},
   "outputs": [],
   "source": [
    "md_dataframe.add_analysis(get_rmsd_init)\n",
    "md_dataframe.add_analysis(get_backbonetorsion)\n",
    "# md_dataframe.add_analysis(get_atomic_position)\n",
    "#md_dataframe.add_analysis(get_domain_position)\n",
    "md_dataframe.add_analysis(get_domain_interdistance)\n",
    "md_dataframe.add_analysis(get_domain_intradistance)\n",
    "md_dataframe.add_analysis(get_pore_hydration)"
   ]
  },
  {
   "cell_type": "code",
   "execution_count": null,
   "metadata": {},
   "outputs": [],
   "source": [
    "u_ref = pickle.loads(open(md_dataframe.dataframe.universe_system[0], 'rb').read())"
   ]
  },
  {
   "cell_type": "code",
   "execution_count": null,
   "metadata": {},
   "outputs": [],
   "source": [
    "md_dataframe.add_analysis(get_membrane_thickness)"
   ]
  },
  {
   "cell_type": "code",
   "execution_count": null,
   "metadata": {
    "tags": []
   },
   "outputs": [],
   "source": [
    "md_dataframe.sort_analysis_result()"
   ]
  },
  {
   "cell_type": "code",
   "execution_count": null,
   "metadata": {
    "tags": []
   },
   "outputs": [],
   "source": [
    "md_dataframe.dataframe['seed'] = md_dataframe.dataframe.traj_name.apply(lambda x: eval(x.split('/')[-3].split('_')[-1]))\n",
    "md_dataframe.dataframe['pathway'] = md_dataframe.dataframe.traj_name.apply(lambda x: x.split('/')[-4])\n",
    "md_dataframe.dataframe['ensemble'] = md_dataframe.dataframe.traj_name.apply(lambda x: x.split('/')[-5])"
   ]
  },
  {
   "cell_type": "code",
   "execution_count": null,
   "metadata": {},
   "outputs": [],
   "source": [
    "md_dataframe.save('a7_apos_feature')"
   ]
  },
  {
   "cell_type": "markdown",
   "metadata": {},
   "source": [
    "## Load the dataframe"
   ]
  },
  {
   "cell_type": "code",
   "execution_count": null,
   "metadata": {},
   "outputs": [],
   "source": [
    "md_dataframe_new = MDDataFrame.load_dataframe('./a7_apos_feature/a7_apos_feature_md_dataframe')"
   ]
  },
  {
   "cell_type": "code",
   "execution_count": null,
   "metadata": {
    "tags": []
   },
   "outputs": [],
   "source": [
    "#md_dataframe_new.sort_analysis_result()"
   ]
  },
  {
   "cell_type": "code",
   "execution_count": null,
   "metadata": {},
   "outputs": [],
   "source": [
    "feature_dataframe = md_dataframe_new.get_feature([\n",
    "                        'ca_distance_10A',\n",
    "                        ])"
   ]
  },
  {
   "cell_type": "code",
   "execution_count": null,
   "metadata": {},
   "outputs": [],
   "source": [
    "md_dataframe_new.get_feature_info('ca_distance_10A')"
   ]
  },
  {
   "cell_type": "code",
   "execution_count": null,
   "metadata": {},
   "outputs": [],
   "source": [
    "import seaborn as sns\n",
    "import matplotlib.pyplot as plt\n",
    "\n",
    "sns.barplot(data=feature_dataframe,\n",
    "             x='system',\n",
    "             y='pore_hydration')\n",
    "plt.show()"
   ]
  }
 ],
 "metadata": {
  "kernelspec": {
   "display_name": "deeplearning",
   "language": "python",
   "name": "deeplearning"
  },
  "language_info": {
   "codemirror_mode": {
    "name": "ipython",
    "version": 3
   },
   "file_extension": ".py",
   "mimetype": "text/x-python",
   "name": "python",
   "nbconvert_exporter": "python",
   "pygments_lexer": "ipython3",
   "version": "3.9.0"
  },
  "vscode": {
   "interpreter": {
    "hash": "8ee8c53404dc23d51e7b542ee493e07a5c192c0c74b5268593435bad2c059391"
   }
  }
 },
 "nbformat": 4,
 "nbformat_minor": 4
}
